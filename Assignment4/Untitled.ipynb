{
 "cells": [
  {
   "cell_type": "code",
   "execution_count": 1,
   "id": "89d9eb92-cbcd-4459-acdd-ccee0f372e1d",
   "metadata": {},
   "outputs": [],
   "source": [
    "import pandas as pd\n",
    "import numpy as np\n",
    "import matplotlib.pyplot as plt"
   ]
  },
  {
   "cell_type": "code",
   "execution_count": 2,
   "id": "1f357917-b11a-4164-8261-481aa68e2595",
   "metadata": {},
   "outputs": [
    {
     "data": {
      "text/html": [
       "<div>\n",
       "<style scoped>\n",
       "    .dataframe tbody tr th:only-of-type {\n",
       "        vertical-align: middle;\n",
       "    }\n",
       "\n",
       "    .dataframe tbody tr th {\n",
       "        vertical-align: top;\n",
       "    }\n",
       "\n",
       "    .dataframe thead th {\n",
       "        text-align: right;\n",
       "    }\n",
       "</style>\n",
       "<table border=\"1\" class=\"dataframe\">\n",
       "  <thead>\n",
       "    <tr style=\"text-align: right;\">\n",
       "      <th></th>\n",
       "      <th>Season</th>\n",
       "      <th>Age</th>\n",
       "      <th>ChildDesease</th>\n",
       "      <th>AccidentTrauma</th>\n",
       "      <th>Surgery</th>\n",
       "      <th>Fevers</th>\n",
       "      <th>Alcohol</th>\n",
       "      <th>Smoking</th>\n",
       "      <th>HoursSitting</th>\n",
       "      <th>Diagnosis</th>\n",
       "    </tr>\n",
       "  </thead>\n",
       "  <tbody>\n",
       "    <tr>\n",
       "      <th>0</th>\n",
       "      <td>-0.33</td>\n",
       "      <td>0.69</td>\n",
       "      <td>0</td>\n",
       "      <td>1</td>\n",
       "      <td>1</td>\n",
       "      <td>0</td>\n",
       "      <td>0.8</td>\n",
       "      <td>0</td>\n",
       "      <td>0.88</td>\n",
       "      <td>N</td>\n",
       "    </tr>\n",
       "    <tr>\n",
       "      <th>1</th>\n",
       "      <td>-0.33</td>\n",
       "      <td>0.94</td>\n",
       "      <td>1</td>\n",
       "      <td>0</td>\n",
       "      <td>1</td>\n",
       "      <td>0</td>\n",
       "      <td>0.8</td>\n",
       "      <td>1</td>\n",
       "      <td>0.31</td>\n",
       "      <td>O</td>\n",
       "    </tr>\n",
       "    <tr>\n",
       "      <th>2</th>\n",
       "      <td>-0.33</td>\n",
       "      <td>0.50</td>\n",
       "      <td>1</td>\n",
       "      <td>0</td>\n",
       "      <td>0</td>\n",
       "      <td>0</td>\n",
       "      <td>1.0</td>\n",
       "      <td>-1</td>\n",
       "      <td>0.50</td>\n",
       "      <td>N</td>\n",
       "    </tr>\n",
       "    <tr>\n",
       "      <th>3</th>\n",
       "      <td>-0.33</td>\n",
       "      <td>0.75</td>\n",
       "      <td>0</td>\n",
       "      <td>1</td>\n",
       "      <td>1</td>\n",
       "      <td>0</td>\n",
       "      <td>1.0</td>\n",
       "      <td>-1</td>\n",
       "      <td>0.38</td>\n",
       "      <td>N</td>\n",
       "    </tr>\n",
       "    <tr>\n",
       "      <th>4</th>\n",
       "      <td>-0.33</td>\n",
       "      <td>0.67</td>\n",
       "      <td>1</td>\n",
       "      <td>1</td>\n",
       "      <td>0</td>\n",
       "      <td>0</td>\n",
       "      <td>0.8</td>\n",
       "      <td>-1</td>\n",
       "      <td>0.50</td>\n",
       "      <td>O</td>\n",
       "    </tr>\n",
       "  </tbody>\n",
       "</table>\n",
       "</div>"
      ],
      "text/plain": [
       "   Season   Age  ChildDesease  AccidentTrauma  Surgery  Fevers  Alcohol  \\\n",
       "0   -0.33  0.69             0               1        1       0      0.8   \n",
       "1   -0.33  0.94             1               0        1       0      0.8   \n",
       "2   -0.33  0.50             1               0        0       0      1.0   \n",
       "3   -0.33  0.75             0               1        1       0      1.0   \n",
       "4   -0.33  0.67             1               1        0       0      0.8   \n",
       "\n",
       "   Smoking  HoursSitting Diagnosis  \n",
       "0        0          0.88         N  \n",
       "1        1          0.31         O  \n",
       "2       -1          0.50         N  \n",
       "3       -1          0.38         N  \n",
       "4       -1          0.50         O  "
      ]
     },
     "execution_count": 2,
     "metadata": {},
     "output_type": "execute_result"
    }
   ],
   "source": [
    "df = pd.read_csv('fertility_Diagnosis.txt')\n",
    "df.head()"
   ]
  },
  {
   "cell_type": "code",
   "execution_count": 4,
   "id": "21df3c70-b739-487b-b3d5-80b11ad98cf8",
   "metadata": {},
   "outputs": [
    {
     "data": {
      "text/plain": [
       "count     100\n",
       "unique      2\n",
       "top         N\n",
       "freq       88\n",
       "Name: Diagnosis, dtype: object"
      ]
     },
     "execution_count": 4,
     "metadata": {},
     "output_type": "execute_result"
    }
   ],
   "source": [
    "df['Diagnosis'].describe()"
   ]
  },
  {
   "cell_type": "code",
   "execution_count": null,
   "id": "1ffaec84-783a-42ed-80dc-5565ebfadf8b",
   "metadata": {},
   "outputs": [],
   "source": [
    "# Season\n",
    "def season_trans(num):\n",
    "    seasons = {-1:'Winter',\n",
    "              -0.33:'Spring',\n",
    "              0.33:'Summer',\n",
    "              1:'Autumn'}\n",
    "    return seasons[num]\n",
    "\n",
    "df['Season'] = df['Season'].map(season_trans)"
   ]
  },
  {
   "cell_type": "code",
   "execution_count": null,
   "id": "b9074e58-e6b2-408e-8d9c-7ae2597ed76a",
   "metadata": {},
   "outputs": [],
   "source": [
    "(df['Age']*18+18).describe()"
   ]
  },
  {
   "cell_type": "code",
   "execution_count": null,
   "id": "e95e9c48-65cf-4406-aa4d-11a26e5c34b3",
   "metadata": {},
   "outputs": [],
   "source": [
    "# Age\n",
    "def age_trans(num):\n",
    "    if num < 1/2 + 1/6:\n",
    "        return 'from 27 to 30'\n",
    "    elif num < 1/2 + 2/6:\n",
    "        return 'from 30 to 33'\n",
    "    else:\n",
    "        return 'from 33 to 36'\n",
    "\n",
    "df['Age'] = df['Age'].map(age_trans)"
   ]
  },
  {
   "cell_type": "code",
   "execution_count": null,
   "id": "a7d4bf91-aa62-4b98-91ae-569c3aeac857",
   "metadata": {},
   "outputs": [],
   "source": [
    "# YES/NO variables\n",
    "binaryCols = ['ChildDesease','AccidentTrauma','Surgery']\n",
    "\n",
    "for col in binaryCols:\n",
    "    df[col] = df[col].map(lambda x: 'Yes' if x==1 else 'No')"
   ]
  },
  {
   "cell_type": "code",
   "execution_count": null,
   "id": "33466c23-9bc2-492d-9ebd-ec22b951ef76",
   "metadata": {},
   "outputs": [],
   "source": [
    "# Fevers\n",
    "def fevers_trans(num):\n",
    "    fevers = {-1:'Less than 3 months',\n",
    "              0:'More than 3 months',\n",
    "              1:'No / More than 1 year'}\n",
    "    return fevers[num]\n",
    "\n",
    "df['Fevers'] = df['Fevers'].map(fevers_trans)"
   ]
  },
  {
   "cell_type": "code",
   "execution_count": null,
   "id": "816c80dd-1fef-487f-a2f6-a71a7666cc26",
   "metadata": {},
   "outputs": [],
   "source": [
    "# Alcohol\n",
    "def alcohol_trans(num):\n",
    "    alcohol = {0.2:'Several times a day',\n",
    "              0.4:'Every day',\n",
    "              0.6:'Several times a week',\n",
    "              0.8:'Once a week',\n",
    "              1:'Hardly ever or never'}\n",
    "    return alcohol[num]\n",
    "\n",
    "df['Alcohol'] = df['Alcohol'].map(alcohol_trans)"
   ]
  },
  {
   "cell_type": "code",
   "execution_count": null,
   "id": "e3cb18c1-8fe8-49ab-ac7e-795ea0a68e29",
   "metadata": {},
   "outputs": [],
   "source": [
    "# Smoking\n",
    "def smoking_trans(num):\n",
    "    smoking = {-1:'Never',\n",
    "              0:'Ocassional',\n",
    "              1:'Daily'}\n",
    "    return smoking[num]\n",
    "\n",
    "df['Smoking'] = df['Smoking'].map(smoking_trans)"
   ]
  },
  {
   "cell_type": "code",
   "execution_count": null,
   "id": "700d46f8-3c53-4f34-9888-8f7f8c7991ed",
   "metadata": {},
   "outputs": [],
   "source": [
    "df['HoursSitting'].describe()"
   ]
  },
  {
   "cell_type": "code",
   "execution_count": null,
   "id": "a42742b1-9610-41b6-a9a3-8f72743ccb88",
   "metadata": {},
   "outputs": [],
   "source": [
    "# Hours sit\n",
    "def sit_trans(num):\n",
    "    if num < 5/24:\n",
    "        return 'from 0h to 4h'\n",
    "    elif num < 10/24:\n",
    "        return 'from 5h to 9h'\n",
    "    elif num < 15/24:\n",
    "        return 'from 10h to 14h'\n",
    "    else:\n",
    "        return 'more than 15h'\n",
    "\n",
    "df['HoursSitting'] = df['HoursSitting'].map(sit_trans)"
   ]
  },
  {
   "cell_type": "code",
   "execution_count": null,
   "id": "3424171c-3148-41d9-a69d-ab58c7f47739",
   "metadata": {},
   "outputs": [],
   "source": [
    "# Diagnosis\n",
    "def diag_trans(num):\n",
    "    diag = {'N':'Normal',\n",
    "            'O':'Altered'}\n",
    "    return diag[num]\n",
    "\n",
    "df['Diagnosis'] = df['Diagnosis'].map(diag_trans)"
   ]
  },
  {
   "cell_type": "code",
   "execution_count": null,
   "id": "98f7e00a-5d40-4836-a140-8e8f7415e25a",
   "metadata": {},
   "outputs": [],
   "source": [
    "df.head()"
   ]
  },
  {
   "cell_type": "code",
   "execution_count": null,
   "id": "cbeedd9d-33e1-4ac0-b7db-0af6ead4a981",
   "metadata": {},
   "outputs": [],
   "source": [
    "df.to_csv('fertility.csv', index=False)"
   ]
  },
  {
   "cell_type": "code",
   "execution_count": null,
   "id": "b7d6f022-a9e4-44f8-a8f8-089c7ffedecb",
   "metadata": {},
   "outputs": [],
   "source": []
  }
 ],
 "metadata": {
  "kernelspec": {
   "display_name": "Python 3 (ipykernel)",
   "language": "python",
   "name": "python3"
  },
  "language_info": {
   "codemirror_mode": {
    "name": "ipython",
    "version": 3
   },
   "file_extension": ".py",
   "mimetype": "text/x-python",
   "name": "python",
   "nbconvert_exporter": "python",
   "pygments_lexer": "ipython3",
   "version": "3.8.10"
  }
 },
 "nbformat": 4,
 "nbformat_minor": 5
}
