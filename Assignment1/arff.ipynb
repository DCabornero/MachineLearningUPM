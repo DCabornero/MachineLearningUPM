{
 "cells": [
  {
   "cell_type": "code",
   "execution_count": 5,
   "id": "75aa1e98-66ce-4b7e-91cc-ae70a0cce7b2",
   "metadata": {},
   "outputs": [],
   "source": [
    "import pandas as pd\n",
    "import numpy as np\n",
    "from scipy.io import arff"
   ]
  },
  {
   "cell_type": "code",
   "execution_count": 7,
   "id": "8659aed9-d768-4ff8-be2a-278938ebc944",
   "metadata": {},
   "outputs": [
    {
     "data": {
      "text/plain": [
       "ra          float64\n",
       "dec         float64\n",
       "u           float64\n",
       "g           float64\n",
       "r           float64\n",
       "i           float64\n",
       "z           float64\n",
       "run         float64\n",
       "rerun       float64\n",
       "camcol      float64\n",
       "field       float64\n",
       "class        object\n",
       "redshift    float64\n",
       "mjd         float64\n",
       "dtype: object"
      ]
     },
     "execution_count": 7,
     "metadata": {},
     "output_type": "execute_result"
    }
   ],
   "source": [
    "data = arff.loadarff('train.arff')\n",
    "df = pd.DataFrame(data[0])\n",
    "\n",
    "norm = ['ra','dec','u','g','r',"
   ]
  }
 ],
 "metadata": {
  "kernelspec": {
   "display_name": "Python 3 (ipykernel)",
   "language": "python",
   "name": "python3"
  },
  "language_info": {
   "codemirror_mode": {
    "name": "ipython",
    "version": 3
   },
   "file_extension": ".py",
   "mimetype": "text/x-python",
   "name": "python",
   "nbconvert_exporter": "python",
   "pygments_lexer": "ipython3",
   "version": "3.8.10"
  }
 },
 "nbformat": 4,
 "nbformat_minor": 5
}
